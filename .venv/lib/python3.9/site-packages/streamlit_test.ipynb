{
 "cells": [
  {
   "cell_type": "code",
   "execution_count": 1,
   "metadata": {},
   "outputs": [],
   "source": [
    "import streamlit as st\n",
    "import pandas as pd\n",
    "\n",
    "# Sample data: list of dictionaries\n",
    "list_of_dicts = [\n",
    "    {\"Name\": \"Alice\", \"Age\": 25, \"Country\": \"USA\"},\n",
    "    {\"Name\": \"Bob\", \"Age\": 30, \"Country\": \"Canada\"},\n",
    "    {\"Name\": \"Charlie\", \"Age\": 28, \"Country\": \"UK\"}\n",
    "]\n",
    "\n",
    "# Sample data: Pandas DataFrame\n",
    "data = {\n",
    "    \"Name\": [\"Alice\", \"Bob\", \"Charlie\"],\n",
    "    \"Age\": [25, 30, 28],\n",
    "    \"Country\": [\"USA\", \"Canada\", \"UK\"]\n",
    "}\n",
    "df = pd.DataFrame(data)"
   ]
  },
  {
   "cell_type": "code",
   "execution_count": 3,
   "metadata": {},
   "outputs": [],
   "source": [
    "def display_data(data_to_display):\n",
    "    if isinstance(data_to_display, list):\n",
    "        st.write(\"Displaying List of Dictionaries:\")\n",
    "        st.write(pd.DataFrame(data_to_display))\n",
    "    elif isinstance(data_to_display, pd.DataFrame):\n",
    "        st.write(\"Displaying Pandas DataFrame:\")\n",
    "        st.write(data_to_display)\n",
    "\n",
    "# Streamlit app\n",
    "def main():\n",
    "    st.title(\"Display Data\")\n",
    "    data_option = st.radio(\"Select data to display:\", (\"List of Dicts\", \"Pandas DataFrame\"))\n",
    "\n",
    "    if data_option == \"List of Dicts\":\n",
    "        display_data(list_of_dicts)\n",
    "    elif data_option == \"Pandas DataFrame\":\n",
    "        display_data(df)"
   ]
  },
  {
   "cell_type": "code",
   "execution_count": 4,
   "metadata": {},
   "outputs": [
    {
     "name": "stderr",
     "output_type": "stream",
     "text": [
      "2023-11-21 16:40:26.000 \n",
      "  \u001b[33m\u001b[1mWarning:\u001b[0m to view this Streamlit app on a browser, run it with the following\n",
      "  command:\n",
      "\n",
      "    streamlit run /home/joudy/Documents/Codes/psiori/pdf_parsing/.venv/lib/python3.9/site-packages/ipykernel_launcher.py [ARGUMENTS]\n"
     ]
    }
   ],
   "source": [
    "if __name__ == \"__main__\":\n",
    "    main()"
   ]
  },
  {
   "cell_type": "code",
   "execution_count": null,
   "metadata": {},
   "outputs": [],
   "source": []
  }
 ],
 "metadata": {
  "kernelspec": {
   "display_name": ".venv",
   "language": "python",
   "name": "python3"
  },
  "language_info": {
   "codemirror_mode": {
    "name": "ipython",
    "version": 3
   },
   "file_extension": ".py",
   "mimetype": "text/x-python",
   "name": "python",
   "nbconvert_exporter": "python",
   "pygments_lexer": "ipython3",
   "version": "3.9.18"
  }
 },
 "nbformat": 4,
 "nbformat_minor": 2
}
