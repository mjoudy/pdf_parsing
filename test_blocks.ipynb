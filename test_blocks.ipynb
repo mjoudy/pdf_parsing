{
 "cells": [
  {
   "cell_type": "code",
   "execution_count": 1,
   "metadata": {},
   "outputs": [],
   "source": [
    "import fitz  # PyMuPDF for PDF handling\n",
    "import pandas as pd  # For DataFrame handling\n",
    "import re  # Regular Expressions for text processing"
   ]
  },
  {
   "cell_type": "code",
   "execution_count": 23,
   "metadata": {},
   "outputs": [],
   "source": [
    "pdf = fitz.open(\"c.pdf\")  # Open PDF"
   ]
  },
  {
   "cell_type": "code",
   "execution_count": 24,
   "metadata": {},
   "outputs": [],
   "source": [
    "page13 = pdf.load_page(0)  # Load page 13"
   ]
  },
  {
   "cell_type": "code",
   "execution_count": 25,
   "metadata": {},
   "outputs": [],
   "source": [
    "text = page13.get_text(\"blocks\")  # Extract text from page 13"
   ]
  },
  {
   "cell_type": "code",
   "execution_count": 26,
   "metadata": {},
   "outputs": [
    {
     "data": {
      "text/plain": [
       "[(56.79999923706055,\n",
       "  57.2073974609375,\n",
       "  537.5321044921875,\n",
       "  111.896484375,\n",
       "  \"1-A part of my trimming machine is being used by a friend accidentally, which I am scared if it is \\nkind of infected by some viruses or something, because I don't know in which part of his body he \\nhas used it. And do you think if I wash it with soap or whatever, it would be good and there isn't any\\nrisk about it? Or I should consider more consideration?\\n\",\n",
       "  0,\n",
       "  0),\n",
       " (56.79999923706055,\n",
       "  126.2073974609375,\n",
       "  537.5321044921875,\n",
       "  180.896484375,\n",
       "  \"2-A part of my trimming machine is being used by a friend accidentally, which I am scared if it is \\nkind of infected by some viruses or something, because I don't know in which part of his body he \\nhas used it. And do you think if I wash it with soap or whatever, it would be good and there isn't any\\nrisk about it? Or I should consider more consideration?\\n\",\n",
       "  1,\n",
       "  0),\n",
       " (56.79999923706055,\n",
       "  195.2073974609375,\n",
       "  537.5321044921875,\n",
       "  249.896484375,\n",
       "  \"3-A part of my trimming machine is being used by a friend accidentally, which I am scared if it is \\nkind of infected by some viruses or something, because I don't know in which part of his body he \\nhas used it. And do you think if I wash it with soap or whatever, it would be good and there isn't any\\nrisk about it? Or I should consider more consideration?\\n\",\n",
       "  2,\n",
       "  0)]"
      ]
     },
     "execution_count": 26,
     "metadata": {},
     "output_type": "execute_result"
    }
   ],
   "source": [
    "text"
   ]
  },
  {
   "cell_type": "code",
   "execution_count": 27,
   "metadata": {},
   "outputs": [
    {
     "data": {
      "text/html": [
       "<div>\n",
       "<style scoped>\n",
       "    .dataframe tbody tr th:only-of-type {\n",
       "        vertical-align: middle;\n",
       "    }\n",
       "\n",
       "    .dataframe tbody tr th {\n",
       "        vertical-align: top;\n",
       "    }\n",
       "\n",
       "    .dataframe thead th {\n",
       "        text-align: right;\n",
       "    }\n",
       "</style>\n",
       "<table border=\"1\" class=\"dataframe\">\n",
       "  <thead>\n",
       "    <tr style=\"text-align: right;\">\n",
       "      <th></th>\n",
       "      <th>0</th>\n",
       "      <th>1</th>\n",
       "      <th>2</th>\n",
       "      <th>3</th>\n",
       "      <th>4</th>\n",
       "      <th>5</th>\n",
       "      <th>6</th>\n",
       "    </tr>\n",
       "  </thead>\n",
       "  <tbody>\n",
       "    <tr>\n",
       "      <th>0</th>\n",
       "      <td>56.799999</td>\n",
       "      <td>57.207397</td>\n",
       "      <td>537.532104</td>\n",
       "      <td>111.896484</td>\n",
       "      <td>1-A part of my trimming machine is being used ...</td>\n",
       "      <td>0</td>\n",
       "      <td>0</td>\n",
       "    </tr>\n",
       "    <tr>\n",
       "      <th>1</th>\n",
       "      <td>56.799999</td>\n",
       "      <td>126.207397</td>\n",
       "      <td>537.532104</td>\n",
       "      <td>180.896484</td>\n",
       "      <td>2-A part of my trimming machine is being used ...</td>\n",
       "      <td>1</td>\n",
       "      <td>0</td>\n",
       "    </tr>\n",
       "    <tr>\n",
       "      <th>2</th>\n",
       "      <td>56.799999</td>\n",
       "      <td>195.207397</td>\n",
       "      <td>537.532104</td>\n",
       "      <td>249.896484</td>\n",
       "      <td>3-A part of my trimming machine is being used ...</td>\n",
       "      <td>2</td>\n",
       "      <td>0</td>\n",
       "    </tr>\n",
       "  </tbody>\n",
       "</table>\n",
       "</div>"
      ],
      "text/plain": [
       "           0           1           2           3  \\\n",
       "0  56.799999   57.207397  537.532104  111.896484   \n",
       "1  56.799999  126.207397  537.532104  180.896484   \n",
       "2  56.799999  195.207397  537.532104  249.896484   \n",
       "\n",
       "                                                   4  5  6  \n",
       "0  1-A part of my trimming machine is being used ...  0  0  \n",
       "1  2-A part of my trimming machine is being used ...  1  0  \n",
       "2  3-A part of my trimming machine is being used ...  2  0  "
      ]
     },
     "execution_count": 27,
     "metadata": {},
     "output_type": "execute_result"
    }
   ],
   "source": [
    "text_pd = pd.DataFrame(text)  # Convert text to DataFrame\n",
    "text_pd"
   ]
  },
  {
   "cell_type": "code",
   "execution_count": null,
   "metadata": {},
   "outputs": [],
   "source": []
  }
 ],
 "metadata": {
  "kernelspec": {
   "display_name": "pdf-parsing",
   "language": "python",
   "name": "python3"
  },
  "language_info": {
   "codemirror_mode": {
    "name": "ipython",
    "version": 3
   },
   "file_extension": ".py",
   "mimetype": "text/x-python",
   "name": "python",
   "nbconvert_exporter": "python",
   "pygments_lexer": "ipython3",
   "version": "3.9.18"
  }
 },
 "nbformat": 4,
 "nbformat_minor": 2
}
