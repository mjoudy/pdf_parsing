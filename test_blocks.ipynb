{
 "cells": [
  {
   "cell_type": "code",
   "execution_count": 2,
   "metadata": {},
   "outputs": [],
   "source": [
    "import fitz  # PyMuPDF for PDF handling\n",
    "import pandas as pd  # For DataFrame handling\n",
    "import re  # Regular Expressions for text processing"
   ]
  },
  {
   "cell_type": "code",
   "execution_count": 3,
   "metadata": {},
   "outputs": [],
   "source": [
    "pdf = fitz.open(\"li.pdf\")  # Open PDF"
   ]
  },
  {
   "cell_type": "code",
   "execution_count": 4,
   "metadata": {},
   "outputs": [],
   "source": [
    "page13 = pdf.load_page(19)  # Load page 15"
   ]
  },
  {
   "cell_type": "code",
   "execution_count": 5,
   "metadata": {},
   "outputs": [],
   "source": [
    "text = page13.get_text(\"blocks\")  # Extract text from page 13"
   ]
  },
  {
   "cell_type": "code",
   "execution_count": 20,
   "metadata": {},
   "outputs": [],
   "source": [
    "def find_element_by_title(data_list, title):\n",
    "    for item in data_list:\n",
    "        if title in item[4]:  # Check if the title is present in the 5th element (index 4) of the tuple\n",
    "            return item\n",
    "    return None"
   ]
  },
  {
   "cell_type": "code",
   "execution_count": 25,
   "metadata": {},
   "outputs": [
    {
     "data": {
      "text/plain": [
       "186.75872802734375"
      ]
     },
     "execution_count": 25,
     "metadata": {},
     "output_type": "execute_result"
    }
   ],
   "source": [
    "a = find_element_by_title(text, \"2.2.1 Point process\")\n",
    "a[1]"
   ]
  },
  {
   "cell_type": "code",
   "execution_count": 13,
   "metadata": {},
   "outputs": [
    {
     "data": {
      "text/plain": [
       "[(113.38604736328125,\n",
       "  186.75872802734375,\n",
       "  220.3731689453125,\n",
       "  203.86660766601562,\n",
       "  '2.2.1 Point process\\n',\n",
       "  2,\n",
       "  0)]"
      ]
     },
     "execution_count": 13,
     "metadata": {},
     "output_type": "execute_result"
    }
   ],
   "source": [
    "text\n",
    "filtered_elements = list(filter(lambda x: '2.2.1 Point process\\n' in x, text))\n",
    "filtered_elements\n"
   ]
  },
  {
   "cell_type": "code",
   "execution_count": 19,
   "metadata": {},
   "outputs": [
    {
     "data": {
      "text/plain": [
       "'2.2.1 Point process'"
      ]
     },
     "execution_count": 19,
     "metadata": {},
     "output_type": "execute_result"
    }
   ],
   "source": [
    "filtered_elements[0][4].strip()"
   ]
  },
  {
   "cell_type": "code",
   "execution_count": 14,
   "metadata": {},
   "outputs": [
    {
     "data": {
      "text/html": [
       "<div>\n",
       "<style scoped>\n",
       "    .dataframe tbody tr th:only-of-type {\n",
       "        vertical-align: middle;\n",
       "    }\n",
       "\n",
       "    .dataframe tbody tr th {\n",
       "        vertical-align: top;\n",
       "    }\n",
       "\n",
       "    .dataframe thead th {\n",
       "        text-align: right;\n",
       "    }\n",
       "</style>\n",
       "<table border=\"1\" class=\"dataframe\">\n",
       "  <thead>\n",
       "    <tr style=\"text-align: right;\">\n",
       "      <th></th>\n",
       "      <th>0</th>\n",
       "      <th>1</th>\n",
       "      <th>2</th>\n",
       "      <th>3</th>\n",
       "      <th>4</th>\n",
       "      <th>5</th>\n",
       "      <th>6</th>\n",
       "    </tr>\n",
       "  </thead>\n",
       "  <tbody>\n",
       "    <tr>\n",
       "      <th>0</th>\n",
       "      <td>113.386002</td>\n",
       "      <td>46.693481</td>\n",
       "      <td>510.302704</td>\n",
       "      <td>62.151676</td>\n",
       "      <td>2 Materials and Methods\\n12\\n</td>\n",
       "      <td>0</td>\n",
       "      <td>0</td>\n",
       "    </tr>\n",
       "    <tr>\n",
       "      <th>1</th>\n",
       "      <td>113.386002</td>\n",
       "      <td>82.853455</td>\n",
       "      <td>512.255310</td>\n",
       "      <td>163.347534</td>\n",
       "      <td>and beta function. Details are in Section 2.2....</td>\n",
       "      <td>1</td>\n",
       "      <td>0</td>\n",
       "    </tr>\n",
       "    <tr>\n",
       "      <th>2</th>\n",
       "      <td>113.386047</td>\n",
       "      <td>186.758728</td>\n",
       "      <td>220.373169</td>\n",
       "      <td>203.866608</td>\n",
       "      <td>2.2.1 Point process\\n</td>\n",
       "      <td>2</td>\n",
       "      <td>0</td>\n",
       "    </tr>\n",
       "    <tr>\n",
       "      <th>3</th>\n",
       "      <td>113.386047</td>\n",
       "      <td>219.377991</td>\n",
       "      <td>191.135208</td>\n",
       "      <td>234.988907</td>\n",
       "      <td>Poisson process\\n</td>\n",
       "      <td>3</td>\n",
       "      <td>0</td>\n",
       "    </tr>\n",
       "    <tr>\n",
       "      <th>4</th>\n",
       "      <td>113.386047</td>\n",
       "      <td>250.888367</td>\n",
       "      <td>349.251678</td>\n",
       "      <td>266.346558</td>\n",
       "      <td>One realization of spike train can be describe...</td>\n",
       "      <td>4</td>\n",
       "      <td>0</td>\n",
       "    </tr>\n",
       "    <tr>\n",
       "      <th>5</th>\n",
       "      <td>266.419067</td>\n",
       "      <td>275.200775</td>\n",
       "      <td>314.010040</td>\n",
       "      <td>312.381195</td>\n",
       "      <td>x(t) =\\n�\\n</td>\n",
       "      <td>5</td>\n",
       "      <td>0</td>\n",
       "    </tr>\n",
       "    <tr>\n",
       "      <th>6</th>\n",
       "      <td>305.378052</td>\n",
       "      <td>280.298340</td>\n",
       "      <td>357.205780</td>\n",
       "      <td>306.757416</td>\n",
       "      <td>i\\nδ(t − ti),\\n</td>\n",
       "      <td>6</td>\n",
       "      <td>0</td>\n",
       "    </tr>\n",
       "    <tr>\n",
       "      <th>7</th>\n",
       "      <td>112.993073</td>\n",
       "      <td>315.189331</td>\n",
       "      <td>510.653992</td>\n",
       "      <td>395.683533</td>\n",
       "      <td>where δ is Dirac function and ti is the spike ...</td>\n",
       "      <td>7</td>\n",
       "      <td>0</td>\n",
       "    </tr>\n",
       "    <tr>\n",
       "      <th>8</th>\n",
       "      <td>222.702057</td>\n",
       "      <td>405.987335</td>\n",
       "      <td>295.583527</td>\n",
       "      <td>428.825531</td>\n",
       "      <td>P[N = k] = Λk\\n</td>\n",
       "      <td>8</td>\n",
       "      <td>0</td>\n",
       "    </tr>\n",
       "    <tr>\n",
       "      <th>9</th>\n",
       "      <td>285.421997</td>\n",
       "      <td>412.191650</td>\n",
       "      <td>380.985107</td>\n",
       "      <td>436.308655</td>\n",
       "      <td>k! e−Λ,\\nΛ = λT,\\n</td>\n",
       "      <td>9</td>\n",
       "      <td>0</td>\n",
       "    </tr>\n",
       "    <tr>\n",
       "      <th>10</th>\n",
       "      <td>112.993011</td>\n",
       "      <td>442.776459</td>\n",
       "      <td>510.695618</td>\n",
       "      <td>523.270691</td>\n",
       "      <td>where λ is the rate of spike train and T is th...</td>\n",
       "      <td>10</td>\n",
       "      <td>0</td>\n",
       "    </tr>\n",
       "    <tr>\n",
       "      <th>11</th>\n",
       "      <td>112.908997</td>\n",
       "      <td>530.674072</td>\n",
       "      <td>397.668701</td>\n",
       "      <td>546.252258</td>\n",
       "      <td>Algorithm 1 Simulation of stationary Poisson p...</td>\n",
       "      <td>11</td>\n",
       "      <td>0</td>\n",
       "    </tr>\n",
       "    <tr>\n",
       "      <th>12</th>\n",
       "      <td>113.386002</td>\n",
       "      <td>547.592041</td>\n",
       "      <td>193.367554</td>\n",
       "      <td>570.424744</td>\n",
       "      <td>Require: T ≥ 0\\n</td>\n",
       "      <td>12</td>\n",
       "      <td>0</td>\n",
       "    </tr>\n",
       "    <tr>\n",
       "      <th>13</th>\n",
       "      <td>119.309013</td>\n",
       "      <td>561.207458</td>\n",
       "      <td>317.279694</td>\n",
       "      <td>576.665649</td>\n",
       "      <td>1: sample random number K from P(λT)\\n</td>\n",
       "      <td>13</td>\n",
       "      <td>0</td>\n",
       "    </tr>\n",
       "    <tr>\n",
       "      <th>14</th>\n",
       "      <td>119.309036</td>\n",
       "      <td>574.756470</td>\n",
       "      <td>416.287628</td>\n",
       "      <td>590.214661</td>\n",
       "      <td>2: distribute K spikes t uniformly and indepen...</td>\n",
       "      <td>14</td>\n",
       "      <td>0</td>\n",
       "    </tr>\n",
       "    <tr>\n",
       "      <th>15</th>\n",
       "      <td>119.309029</td>\n",
       "      <td>588.305420</td>\n",
       "      <td>393.727539</td>\n",
       "      <td>603.763611</td>\n",
       "      <td>3: spike train = collection of all points on t...</td>\n",
       "      <td>15</td>\n",
       "      <td>0</td>\n",
       "    </tr>\n",
       "    <tr>\n",
       "      <th>16</th>\n",
       "      <td>113.386002</td>\n",
       "      <td>631.949463</td>\n",
       "      <td>510.488281</td>\n",
       "      <td>679.925659</td>\n",
       "      <td>Repeat simulation processes multiple times (Al...</td>\n",
       "      <td>16</td>\n",
       "      <td>0</td>\n",
       "    </tr>\n",
       "  </tbody>\n",
       "</table>\n",
       "</div>"
      ],
      "text/plain": [
       "             0           1           2           3  \\\n",
       "0   113.386002   46.693481  510.302704   62.151676   \n",
       "1   113.386002   82.853455  512.255310  163.347534   \n",
       "2   113.386047  186.758728  220.373169  203.866608   \n",
       "3   113.386047  219.377991  191.135208  234.988907   \n",
       "4   113.386047  250.888367  349.251678  266.346558   \n",
       "5   266.419067  275.200775  314.010040  312.381195   \n",
       "6   305.378052  280.298340  357.205780  306.757416   \n",
       "7   112.993073  315.189331  510.653992  395.683533   \n",
       "8   222.702057  405.987335  295.583527  428.825531   \n",
       "9   285.421997  412.191650  380.985107  436.308655   \n",
       "10  112.993011  442.776459  510.695618  523.270691   \n",
       "11  112.908997  530.674072  397.668701  546.252258   \n",
       "12  113.386002  547.592041  193.367554  570.424744   \n",
       "13  119.309013  561.207458  317.279694  576.665649   \n",
       "14  119.309036  574.756470  416.287628  590.214661   \n",
       "15  119.309029  588.305420  393.727539  603.763611   \n",
       "16  113.386002  631.949463  510.488281  679.925659   \n",
       "\n",
       "                                                    4   5  6  \n",
       "0                       2 Materials and Methods\\n12\\n   0  0  \n",
       "1   and beta function. Details are in Section 2.2....   1  0  \n",
       "2                               2.2.1 Point process\\n   2  0  \n",
       "3                                   Poisson process\\n   3  0  \n",
       "4   One realization of spike train can be describe...   4  0  \n",
       "5                                         x(t) =\\n�\\n   5  0  \n",
       "6                                     i\\nδ(t − ti),\\n   6  0  \n",
       "7   where δ is Dirac function and ti is the spike ...   7  0  \n",
       "8                                     P[N = k] = Λk\\n   8  0  \n",
       "9                                  k! e−Λ,\\nΛ = λT,\\n   9  0  \n",
       "10  where λ is the rate of spike train and T is th...  10  0  \n",
       "11  Algorithm 1 Simulation of stationary Poisson p...  11  0  \n",
       "12                                   Require: T ≥ 0\\n  12  0  \n",
       "13             1: sample random number K from P(λT)\\n  13  0  \n",
       "14  2: distribute K spikes t uniformly and indepen...  14  0  \n",
       "15  3: spike train = collection of all points on t...  15  0  \n",
       "16  Repeat simulation processes multiple times (Al...  16  0  "
      ]
     },
     "execution_count": 14,
     "metadata": {},
     "output_type": "execute_result"
    }
   ],
   "source": [
    "pd.set_option(\"display.max_rows\", None)  # Display all rows\n",
    "text_pd = pd.DataFrame(text)  # Convert text to DataFrame\n",
    "text_pd"
   ]
  },
  {
   "cell_type": "code",
   "execution_count": null,
   "metadata": {},
   "outputs": [],
   "source": []
  }
 ],
 "metadata": {
  "kernelspec": {
   "display_name": "pdf-parsing",
   "language": "python",
   "name": "python3"
  },
  "language_info": {
   "codemirror_mode": {
    "name": "ipython",
    "version": 3
   },
   "file_extension": ".py",
   "mimetype": "text/x-python",
   "name": "python",
   "nbconvert_exporter": "python",
   "pygments_lexer": "ipython3",
   "version": "3.9.18"
  }
 },
 "nbformat": 4,
 "nbformat_minor": 2
}
