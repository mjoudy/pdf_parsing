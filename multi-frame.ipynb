{
 "cells": [
  {
   "cell_type": "code",
   "execution_count": 14,
   "metadata": {},
   "outputs": [],
   "source": [
    "import fitz\n",
    "import numpy as np\n",
    "from collections import Counter"
   ]
  },
  {
   "cell_type": "code",
   "execution_count": 6,
   "metadata": {},
   "outputs": [],
   "source": [
    "pdf_address = \"a.pdf\"\n",
    "doc = fitz.open(pdf_address)\n",
    "page = doc.load_page(13)\n",
    "page_dict = page.get_text(\"dict\")\n",
    "page_blocks = page_dict[\"blocks\"]\n",
    "page_blocks_2 = page.get_text(\"blocks\")\n",
    "page_text = page.get_text(\"text\")\n",
    "\n",
    "blocks_bbox_text = []\n",
    "for i in range(len(page_blocks_2)):\n",
    "    blocks_bbox_text.append(page_blocks_2[i][0:5])"
   ]
  },
  {
   "cell_type": "markdown",
   "metadata": {},
   "source": [
    "!!! if a line has multiple spans! This should be considered and sall be added.!!!"
   ]
  },
  {
   "cell_type": "code",
   "execution_count": 39,
   "metadata": {},
   "outputs": [
    {
     "data": {
      "text/plain": [
       "{'number': 1,\n",
       " 'type': 0,\n",
       " 'bbox': (68.03150177001953,\n",
       "  34.0159912109375,\n",
       "  204.282470703125,\n",
       "  43.0159912109375),\n",
       " 'lines': [{'spans': [{'size': 9.0,\n",
       "     'flags': 4,\n",
       "     'font': 'FrutigerLTCom-Light',\n",
       "     'color': 0,\n",
       "     'ascender': 0.75,\n",
       "     'descender': -0.25,\n",
       "     'text': 'M A S C H I N E L L E S  L E R N E N',\n",
       "     'origin': (68.03150177001953, 40.7659912109375),\n",
       "     'bbox': (68.03150177001953,\n",
       "      34.0159912109375,\n",
       "      204.282470703125,\n",
       "      43.0159912109375)}],\n",
       "   'wmode': 0,\n",
       "   'dir': (1.0, 0.0),\n",
       "   'bbox': (68.03150177001953,\n",
       "    34.0159912109375,\n",
       "    204.282470703125,\n",
       "    43.0159912109375)}]}"
      ]
     },
     "execution_count": 39,
     "metadata": {},
     "output_type": "execute_result"
    }
   ],
   "source": [
    "page_blocks\n",
    "sorted_page_blocks = sorted(page_blocks, key=lambda x: (x['bbox'][0], x['bbox'][1]))\n",
    "sorted_page_blocks[0]['lines'][0]['spans'][0]['text']"
   ]
  },
  {
   "cell_type": "code",
   "execution_count": 19,
   "metadata": {},
   "outputs": [
    {
     "data": {
      "text/plain": [
       "805.250244140625"
      ]
     },
     "execution_count": 19,
     "metadata": {},
     "output_type": "execute_result"
    }
   ],
   "source": [
    "page_blocks[0]['bbox'][1]"
   ]
  },
  {
   "cell_type": "code",
   "execution_count": 44,
   "metadata": {},
   "outputs": [],
   "source": [
    "def is_close(cluster, line, x_threshold, y_threshold):\n",
    "    # Check if the line is close to the cluster in both x and y directions\n",
    "    x_close = abs((cluster['bbox'][0] + cluster['bbox'][2])/2 - (line['bbox'][0] + line['bbox'][2])/2) <= x_threshold\n",
    "    y_close = abs(cluster['bbox'][3] - line['bbox'][1]) <= y_threshold\n",
    "    return x_close and y_close"
   ]
  },
  {
   "cell_type": "code",
   "execution_count": 45,
   "metadata": {},
   "outputs": [],
   "source": [
    "def merge_clusters(cluster, new_line):\n",
    "    # Merge the new line into the existing cluster\n",
    "    x1 = min(cluster['bbox'][0], new_line['bbox'][0])\n",
    "    y1 = min(cluster['bbox'][1], new_line['bbox'][1])\n",
    "    x2 = max(cluster['bbox'][2], new_line['bbox'][2])\n",
    "    y2 = max(cluster['bbox'][3], new_line['bbox'][3])\n",
    "    text = cluster['lines'][0]['spans'][0]['text'] + \" \" + new_line['lines'][0]['spans'][0]['text']\n",
    "    return {'bbox': (x1, y1, x2, y2), 'text': text}\n"
   ]
  },
  {
   "cell_type": "code",
   "execution_count": 46,
   "metadata": {},
   "outputs": [],
   "source": [
    "def find_text_blocks(page_lines, x_threshold=50, y_threshold=10):\n",
    "    # Sort the list by y1 coordinate and then by x1 coordinate\n",
    "    sorted_lines = sorted(page_lines, key=lambda k: (k['bbox'][1], k['bbox'][0]))\n",
    "    \n",
    "    clusters = []\n",
    "\n",
    "    for line in sorted_lines:\n",
    "        merged = False\n",
    "        for i in range(len(clusters)):\n",
    "            if is_close(clusters[i], line, x_threshold, y_threshold):\n",
    "                # Merge with the cluster\n",
    "                clusters[i] = merge_clusters(clusters[i], line)\n",
    "                merged = True\n",
    "                break\n",
    "        if not merged:\n",
    "            # Start a new cluster\n",
    "            clusters.append(line)\n",
    "\n",
    "    return clusters"
   ]
  },
  {
   "cell_type": "code",
   "execution_count": 47,
   "metadata": {},
   "outputs": [],
   "source": [
    "def add_cluster_number(page_lines, clusters):\n",
    "    for line in page_lines:\n",
    "        for i, cluster in enumerate(clusters):\n",
    "            if (line['bbox'][0] >= cluster['bbox'][0] and line['bbox'][1] >= cluster['bbox'][1] \n",
    "                and line['bbox'][2] <= cluster['bbox'][2] and line['bbox'][3] <= cluster['bbox'][3]):\n",
    "                line['cluster_number'] = i\n",
    "                break\n",
    "    return page_lines"
   ]
  },
  {
   "cell_type": "code",
   "execution_count": 48,
   "metadata": {},
   "outputs": [],
   "source": [
    "def sort_lines(page_lines, clusters):\n",
    "    #sort lines of page based on clusters coordination\n",
    "    sorted_clusters = sorted(clusters, key=lambda k: (k['bbox'][1], k['bbox'][0]))\n",
    "    sorted_lines = add_cluster_number(page_lines, sorted_clusters)\n",
    "    sorted_lines = sorted(sorted_lines, key=lambda k: (k['cluster_number'], k['bbox'][1], k['bbox'][0]))\n",
    "\n",
    "    return sorted_lines"
   ]
  },
  {
   "cell_type": "code",
   "execution_count": 49,
   "metadata": {},
   "outputs": [],
   "source": [
    "def find_titles(sorted_lines_blocks):\n",
    "    #blocks = page.get_text(\"dict\", flags=11)[\"blocks\"]\n",
    "    blocks = sorted_lines_blocks\n",
    "    page_font_sizes = []\n",
    "    page_font_names = []\n",
    "    for b in blocks:  # iterate through the text blocks\n",
    "        for l in b[\"lines\"]:  # iterate through the text lines\n",
    "            for s in l[\"spans\"]:  # iterate through the text spans\n",
    "                #print(\"\")\n",
    "                page_font_sizes.append(s[\"size\"])\n",
    "                page_font_names.append(s[\"font\"])\n",
    "                \n",
    "    page_font_sizes_counter = Counter(page_font_sizes)\n",
    "    most_common_font_size, most_common_count = page_font_sizes_counter.most_common(1)[0]\n",
    "\n",
    "    if most_common_count / len(page_font_sizes) > 0.5:\n",
    "        title_font_sizes = [x for x in page_font_sizes if x > most_common_font_size]\n",
    "    else:\n",
    "        return None\n",
    "    \n",
    "    title_blocks = []\n",
    "    for b in blocks:  # iterate through the text blocks\n",
    "        for l in b[\"lines\"]:  # iterate through the text lines\n",
    "            for s in l[\"spans\"]:  # iterate through the text spans\n",
    "                if s[\"size\"] in title_font_sizes:\n",
    "                    title_blocks.append(b)\n",
    "\n",
    "    return title_blocks"
   ]
  },
  {
   "cell_type": "code",
   "execution_count": 59,
   "metadata": {},
   "outputs": [
    {
     "ename": "KeyError",
     "evalue": "'lines'",
     "output_type": "error",
     "traceback": [
      "\u001b[0;31m---------------------------------------------------------------------------\u001b[0m",
      "\u001b[0;31mKeyError\u001b[0m                                  Traceback (most recent call last)",
      "Cell \u001b[0;32mIn[59], line 1\u001b[0m\n\u001b[0;32m----> 1\u001b[0m x \u001b[38;5;241m=\u001b[39m sort_lines(page_blocks, \u001b[43mfind_text_blocks\u001b[49m\u001b[43m(\u001b[49m\u001b[43mpage_blocks\u001b[49m\u001b[43m)\u001b[49m)\n",
      "Cell \u001b[0;32mIn[46], line 12\u001b[0m, in \u001b[0;36mfind_text_blocks\u001b[0;34m(page_lines, x_threshold, y_threshold)\u001b[0m\n\u001b[1;32m      9\u001b[0m \u001b[38;5;28;01mfor\u001b[39;00m i \u001b[38;5;129;01min\u001b[39;00m \u001b[38;5;28mrange\u001b[39m(\u001b[38;5;28mlen\u001b[39m(clusters)):\n\u001b[1;32m     10\u001b[0m     \u001b[38;5;28;01mif\u001b[39;00m is_close(clusters[i], line, x_threshold, y_threshold):\n\u001b[1;32m     11\u001b[0m         \u001b[38;5;66;03m# Merge with the cluster\u001b[39;00m\n\u001b[0;32m---> 12\u001b[0m         clusters[i] \u001b[38;5;241m=\u001b[39m \u001b[43mmerge_clusters\u001b[49m\u001b[43m(\u001b[49m\u001b[43mclusters\u001b[49m\u001b[43m[\u001b[49m\u001b[43mi\u001b[49m\u001b[43m]\u001b[49m\u001b[43m,\u001b[49m\u001b[43m \u001b[49m\u001b[43mline\u001b[49m\u001b[43m)\u001b[49m\n\u001b[1;32m     13\u001b[0m         merged \u001b[38;5;241m=\u001b[39m \u001b[38;5;28;01mTrue\u001b[39;00m\n\u001b[1;32m     14\u001b[0m         \u001b[38;5;28;01mbreak\u001b[39;00m\n",
      "Cell \u001b[0;32mIn[45], line 7\u001b[0m, in \u001b[0;36mmerge_clusters\u001b[0;34m(cluster, new_line)\u001b[0m\n\u001b[1;32m      5\u001b[0m x2 \u001b[38;5;241m=\u001b[39m \u001b[38;5;28mmax\u001b[39m(cluster[\u001b[38;5;124m'\u001b[39m\u001b[38;5;124mbbox\u001b[39m\u001b[38;5;124m'\u001b[39m][\u001b[38;5;241m2\u001b[39m], new_line[\u001b[38;5;124m'\u001b[39m\u001b[38;5;124mbbox\u001b[39m\u001b[38;5;124m'\u001b[39m][\u001b[38;5;241m2\u001b[39m])\n\u001b[1;32m      6\u001b[0m y2 \u001b[38;5;241m=\u001b[39m \u001b[38;5;28mmax\u001b[39m(cluster[\u001b[38;5;124m'\u001b[39m\u001b[38;5;124mbbox\u001b[39m\u001b[38;5;124m'\u001b[39m][\u001b[38;5;241m3\u001b[39m], new_line[\u001b[38;5;124m'\u001b[39m\u001b[38;5;124mbbox\u001b[39m\u001b[38;5;124m'\u001b[39m][\u001b[38;5;241m3\u001b[39m])\n\u001b[0;32m----> 7\u001b[0m text \u001b[38;5;241m=\u001b[39m \u001b[43mcluster\u001b[49m\u001b[43m[\u001b[49m\u001b[38;5;124;43m'\u001b[39;49m\u001b[38;5;124;43mlines\u001b[39;49m\u001b[38;5;124;43m'\u001b[39;49m\u001b[43m]\u001b[49m[\u001b[38;5;241m0\u001b[39m][\u001b[38;5;124m'\u001b[39m\u001b[38;5;124mspans\u001b[39m\u001b[38;5;124m'\u001b[39m][\u001b[38;5;241m0\u001b[39m][\u001b[38;5;124m'\u001b[39m\u001b[38;5;124mtext\u001b[39m\u001b[38;5;124m'\u001b[39m] \u001b[38;5;241m+\u001b[39m \u001b[38;5;124m\"\u001b[39m\u001b[38;5;124m \u001b[39m\u001b[38;5;124m\"\u001b[39m \u001b[38;5;241m+\u001b[39m new_line[\u001b[38;5;124m'\u001b[39m\u001b[38;5;124mlines\u001b[39m\u001b[38;5;124m'\u001b[39m][\u001b[38;5;241m0\u001b[39m][\u001b[38;5;124m'\u001b[39m\u001b[38;5;124mspans\u001b[39m\u001b[38;5;124m'\u001b[39m][\u001b[38;5;241m0\u001b[39m][\u001b[38;5;124m'\u001b[39m\u001b[38;5;124mtext\u001b[39m\u001b[38;5;124m'\u001b[39m]\n\u001b[1;32m      8\u001b[0m \u001b[38;5;28;01mreturn\u001b[39;00m {\u001b[38;5;124m'\u001b[39m\u001b[38;5;124mbbox\u001b[39m\u001b[38;5;124m'\u001b[39m: (x1, y1, x2, y2), \u001b[38;5;124m'\u001b[39m\u001b[38;5;124mtext\u001b[39m\u001b[38;5;124m'\u001b[39m: text}\n",
      "\u001b[0;31mKeyError\u001b[0m: 'lines'"
     ]
    }
   ],
   "source": [
    "x = sort_lines(page_blocks, find_text_blocks(page_blocks))"
   ]
  },
  {
   "cell_type": "code",
   "execution_count": 50,
   "metadata": {},
   "outputs": [],
   "source": [
    "def is_title(page_block, ptitles):\n",
    "    if page_block is None:\n",
    "        return False\n",
    "    if not ptitles:\n",
    "        return False\n",
    "    for item in ptitles:\n",
    "        if item['bbox'] == page_block['bbox'][:4]:\n",
    "            #print(\"bbox of title:\", item['bbox'], \"\\n\", \"bbox of block:\", pblock[:4])\n",
    "            return True\n",
    "    return False"
   ]
  },
  {
   "cell_type": "code",
   "execution_count": 51,
   "metadata": {},
   "outputs": [],
   "source": [
    "def extract_image_from_page(pdf_document, page, page_number):\n",
    "    image_list = page.get_images(full=True)\n",
    "    if image_list is None:\n",
    "        return None\n",
    "    else:\n",
    "        images_name = []\n",
    "        info_names = []   #write decription about info of images in PyMuPDF.\n",
    "        images_y0 = []\n",
    "        for img_index, img_info in enumerate(image_list):\n",
    "            xref = img_info[0]\n",
    "            image_info_name = img_info[7]\n",
    "            base_image = pdf_document.extract_image(xref)\n",
    "            image_bytes = base_image[\"image\"]\n",
    "            image_filename = f\"image_{page_number+1}_{img_index + 1}.png\"\n",
    "            y0 = page.get_image_bbox(img_info)[1]  \n",
    "            images_name.append(image_filename)\n",
    "            info_names.append(image_info_name)\n",
    "            images_y0.append(y0)\n",
    "            with open(image_filename, \"wb\") as image_file:\n",
    "                image_file.write(image_bytes)\n",
    "        return images_name, info_names, images_y0"
   ]
  },
  {
   "cell_type": "code",
   "execution_count": 56,
   "metadata": {},
   "outputs": [],
   "source": [
    "def make_master_list(pdf_doc):\n",
    "    master_list = []\n",
    "\n",
    "    # Iterate through each page\n",
    "    for page_num in range(len(pdf_doc)):\n",
    "        page = pdf_doc.load_page(page_num)\n",
    "\n",
    "        # Extract text blocks from the page\n",
    "        #text_blocks = page.get_text(\"blocks\")\n",
    "        text_lines = page.get_text(\"dict\", flags=11)[\"blocks\"]\n",
    "        text_blocks = find_text_blocks(text_lines)\n",
    "        text_blocks = sort_lines(text_lines, text_blocks)\n",
    "\n",
    "        page_titles = find_titles(text_blocks)\n",
    "\n",
    "        image_names, image_info_names, images_y0 = extract_image_from_page(pdf_doc, page, page_num)\n",
    "\n",
    "        # Add page number to each block and append to master list\n",
    "        for i, block in enumerate(text_blocks):\n",
    "            # Create a dictionary for the block\n",
    "            block_dict = {\n",
    "                \"page\": page_num,\n",
    "                \"bbox\": block['bbox'][0:4],  # Position of the text block\n",
    "                \"text\": block['lines'][0]['spans'][0]['text'],   # Text content of the block\n",
    "                \"image\": [],\n",
    "                \"title\": is_title(block, page_titles)\n",
    "            }\n",
    "            \n",
    "            next_block = text_blocks[i+1] if i < len(text_blocks) - 1 else None\n",
    "            for j, image_y0 in enumerate(images_y0):\n",
    "                if is_title(next_block, page_titles) and image_y0 < next_block[1]:\n",
    "                    block_dict[\"image\"].append(image_names[j])\n",
    "    \n",
    "            master_list.append(block_dict)\n",
    "\n",
    "    return master_list"
   ]
  },
  {
   "cell_type": "code",
   "execution_count": 57,
   "metadata": {},
   "outputs": [
    {
     "ename": "IndexError",
     "evalue": "list index out of range",
     "output_type": "error",
     "traceback": [
      "\u001b[0;31m---------------------------------------------------------------------------\u001b[0m",
      "\u001b[0;31mIndexError\u001b[0m                                Traceback (most recent call last)",
      "Cell \u001b[0;32mIn[57], line 1\u001b[0m\n\u001b[0;32m----> 1\u001b[0m \u001b[43mmake_master_list\u001b[49m\u001b[43m(\u001b[49m\u001b[43mdoc\u001b[49m\u001b[43m)\u001b[49m\n",
      "Cell \u001b[0;32mIn[56], line 14\u001b[0m, in \u001b[0;36mmake_master_list\u001b[0;34m(pdf_doc)\u001b[0m\n\u001b[1;32m     11\u001b[0m text_blocks \u001b[38;5;241m=\u001b[39m find_text_blocks(text_lines)\n\u001b[1;32m     12\u001b[0m text_blocks \u001b[38;5;241m=\u001b[39m sort_lines(text_lines, text_blocks)\n\u001b[0;32m---> 14\u001b[0m page_titles \u001b[38;5;241m=\u001b[39m \u001b[43mfind_titles\u001b[49m\u001b[43m(\u001b[49m\u001b[43mtext_blocks\u001b[49m\u001b[43m)\u001b[49m\n\u001b[1;32m     16\u001b[0m image_names, image_info_names, images_y0 \u001b[38;5;241m=\u001b[39m extract_image_from_page(pdf_doc, page, page_num)\n\u001b[1;32m     18\u001b[0m \u001b[38;5;66;03m# Add page number to each block and append to master list\u001b[39;00m\n",
      "Cell \u001b[0;32mIn[49], line 14\u001b[0m, in \u001b[0;36mfind_titles\u001b[0;34m(sorted_lines_blocks)\u001b[0m\n\u001b[1;32m     11\u001b[0m             page_font_names\u001b[38;5;241m.\u001b[39mappend(s[\u001b[38;5;124m\"\u001b[39m\u001b[38;5;124mfont\u001b[39m\u001b[38;5;124m\"\u001b[39m])\n\u001b[1;32m     13\u001b[0m page_font_sizes_counter \u001b[38;5;241m=\u001b[39m Counter(page_font_sizes)\n\u001b[0;32m---> 14\u001b[0m most_common_font_size, most_common_count \u001b[38;5;241m=\u001b[39m \u001b[43mpage_font_sizes_counter\u001b[49m\u001b[38;5;241;43m.\u001b[39;49m\u001b[43mmost_common\u001b[49m\u001b[43m(\u001b[49m\u001b[38;5;241;43m1\u001b[39;49m\u001b[43m)\u001b[49m\u001b[43m[\u001b[49m\u001b[38;5;241;43m0\u001b[39;49m\u001b[43m]\u001b[49m\n\u001b[1;32m     16\u001b[0m \u001b[38;5;28;01mif\u001b[39;00m most_common_count \u001b[38;5;241m/\u001b[39m \u001b[38;5;28mlen\u001b[39m(page_font_sizes) \u001b[38;5;241m>\u001b[39m \u001b[38;5;241m0.5\u001b[39m:\n\u001b[1;32m     17\u001b[0m     title_font_sizes \u001b[38;5;241m=\u001b[39m [x \u001b[38;5;28;01mfor\u001b[39;00m x \u001b[38;5;129;01min\u001b[39;00m page_font_sizes \u001b[38;5;28;01mif\u001b[39;00m x \u001b[38;5;241m>\u001b[39m most_common_font_size]\n",
      "\u001b[0;31mIndexError\u001b[0m: list index out of range"
     ]
    }
   ],
   "source": [
    "make_master_list(doc)"
   ]
  },
  {
   "cell_type": "code",
   "execution_count": null,
   "metadata": {},
   "outputs": [],
   "source": []
  }
 ],
 "metadata": {
  "kernelspec": {
   "display_name": "pdf-parsing",
   "language": "python",
   "name": "python3"
  },
  "language_info": {
   "codemirror_mode": {
    "name": "ipython",
    "version": 3
   },
   "file_extension": ".py",
   "mimetype": "text/x-python",
   "name": "python",
   "nbconvert_exporter": "python",
   "pygments_lexer": "ipython3",
   "version": "3.9.18"
  }
 },
 "nbformat": 4,
 "nbformat_minor": 2
}
