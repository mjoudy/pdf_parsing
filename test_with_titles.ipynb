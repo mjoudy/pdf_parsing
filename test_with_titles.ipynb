{
 "cells": [
  {
   "cell_type": "code",
   "execution_count": 1,
   "metadata": {},
   "outputs": [],
   "source": [
    "import fitz  # PyMuPDF for PDF handling\n",
    "import pandas as pd  # For DataFrame handling\n",
    "import re  # Regular Expressions for text processing"
   ]
  },
  {
   "cell_type": "code",
   "execution_count": 10,
   "metadata": {},
   "outputs": [],
   "source": [
    "def extract_text_from_paragraph(page, bbox):\n",
    "    \"\"\"Extract text from a specific bounding box on a page.\"\"\"\n",
    "    text = page.get_text(\"text\", clip=bbox)\n",
    "    return text.strip()"
   ]
  },
  {
   "cell_type": "code",
   "execution_count": 11,
   "metadata": {},
   "outputs": [],
   "source": [
    "def extract_images_from_paragraph(page, bbox):\n",
    "    \"\"\"Extract images from a specific bounding box on a page.\"\"\"\n",
    "    # You'll need to implement logic to extract images from the specified bounding box\n",
    "    images = []  # Placeholder for images\n",
    "    return images"
   ]
  },
  {
   "cell_type": "code",
   "execution_count": 1,
   "metadata": {},
   "outputs": [],
   "source": [
    "def extract_headings_by_font(page):\n",
    "    headings = []\n",
    "    for block in page.get_text(\"dict\")[\"blocks\"]:\n",
    "        # Assuming headings have larger font sizes (adjust threshold as needed)\n",
    "        if block.get(\"size\", 0) > 12:  # Example threshold for font size\n",
    "            headings.append(block[\"text\"])\n",
    "    return headings"
   ]
  },
  {
   "cell_type": "code",
   "execution_count": 2,
   "metadata": {},
   "outputs": [],
   "source": [
    "def extract_headings_by_position(page):\n",
    "    headings = []\n",
    "    for block in page.get_text(\"dict\")[\"blocks\"]:\n",
    "        # Assuming headings are centered (adjust based on document layout)\n",
    "        if block.get(\"x0\", 0) == block.get(\"x1\", 0) / 2:\n",
    "            headings.append(block[\"text\"])\n",
    "    return headings"
   ]
  },
  {
   "cell_type": "code",
   "execution_count": 3,
   "metadata": {},
   "outputs": [],
   "source": [
    "def extract_headings_from_toc(toc):\n",
    "    headings = [entry[1] for entry in toc]  # Assuming TOC structure: (page_num, heading)\n",
    "    return headings"
   ]
  },
  {
   "cell_type": "code",
   "execution_count": 4,
   "metadata": {},
   "outputs": [],
   "source": [
    "def extract_headings_by_regex(page):\n",
    "    headings = []\n",
    "    for block in page.get_text(\"dict\")[\"blocks\"]:\n",
    "        # Example: Looking for text starting with \"Chapter\" followed by a number\n",
    "        if re.match(r\"Chapter\\s\\d+\", block[\"text\"]):\n",
    "            headings.append(block[\"text\"])\n",
    "    return headings"
   ]
  },
  {
   "cell_type": "code",
   "execution_count": 5,
   "metadata": {},
   "outputs": [],
   "source": [
    "def extract_headings_by_structure(page):\n",
    "    # Custom logic based on specific document structure, e.g., looking for <h1>, <h2> tags\n",
    "    # Implement your logic here\n",
    "    pass"
   ]
  },
  {
   "cell_type": "code",
   "execution_count": 6,
   "metadata": {},
   "outputs": [],
   "source": [
    "def extract_headings(page, method=\"font\"):\n",
    "    if method == \"font\":\n",
    "        return extract_headings_by_font(page)\n",
    "    elif method == \"position\":\n",
    "        return extract_headings_by_position(page)\n",
    "    elif method == \"toc\":\n",
    "        return extract_headings_from_toc(page.get_toc())\n",
    "    elif method == \"regex\":\n",
    "        return extract_headings_by_regex(page)\n",
    "    elif method == \"structure\":\n",
    "        return extract_headings_by_structure(page)\n",
    "    else:\n",
    "        return []"
   ]
  },
  {
   "cell_type": "code",
   "execution_count": 12,
   "metadata": {},
   "outputs": [],
   "source": [
    "def parse_pdf(file_path, title_extraction_method=\"font\"):\n",
    "    doc = fitz.open(file_path)\n",
    "    pages = len(doc)\n",
    "\n",
    "    parsed_data = []\n",
    "    for page_num in range(pages):\n",
    "        page = doc.load_page(page_num)\n",
    "        headings = extract_headings(page, method=title_extraction_method)\n",
    "        blocks = page.get_text(\"dict\")[\"blocks\"]\n",
    "\n",
    "        for b in blocks:\n",
    "            if b[\"type\"] == 0:  # Text block\n",
    "                bbox = b[\"bbox\"]\n",
    "                text = extract_text_from_paragraph(page, bbox)\n",
    "                images = extract_images_from_paragraph(page, bbox)\n",
    "                title = headings[page_num] if page_num < len(headings) else \"Untitled\"\n",
    "\n",
    "                parsed_content = {\n",
    "                    \"page_numbers\": [page_num + 1],\n",
    "                    \"title\": title,\n",
    "                    \"text\": text,\n",
    "                    \"images\": images,\n",
    "                    \"tables\": []  # Placeholder for tables\n",
    "                }\n",
    "                parsed_data.append(parsed_content)\n",
    "\n",
    "    doc.close()\n",
    "    return parsed_data"
   ]
  },
  {
   "cell_type": "code",
   "execution_count": 13,
   "metadata": {},
   "outputs": [
    {
     "ename": "NameError",
     "evalue": "name 'fitz' is not defined",
     "output_type": "error",
     "traceback": [
      "\u001b[0;31m---------------------------------------------------------------------------\u001b[0m",
      "\u001b[0;31mNameError\u001b[0m                                 Traceback (most recent call last)",
      "\u001b[1;32m/home/mjoudy/Documents/codes/psiori/pdf_parsing/test_with_titles.ipynb Cell 11\u001b[0m line \u001b[0;36m5\n\u001b[1;32m      <a href='vscode-notebook-cell:/home/mjoudy/Documents/codes/psiori/pdf_parsing/test_with_titles.ipynb#X11sZmlsZQ%3D%3D?line=0'>1</a>\u001b[0m \u001b[39m# Rest of the code remains unchanged\u001b[39;00m\n\u001b[1;32m      <a href='vscode-notebook-cell:/home/mjoudy/Documents/codes/psiori/pdf_parsing/test_with_titles.ipynb#X11sZmlsZQ%3D%3D?line=1'>2</a>\u001b[0m \n\u001b[1;32m      <a href='vscode-notebook-cell:/home/mjoudy/Documents/codes/psiori/pdf_parsing/test_with_titles.ipynb#X11sZmlsZQ%3D%3D?line=2'>3</a>\u001b[0m \u001b[39m# Usage\u001b[39;00m\n\u001b[1;32m      <a href='vscode-notebook-cell:/home/mjoudy/Documents/codes/psiori/pdf_parsing/test_with_titles.ipynb#X11sZmlsZQ%3D%3D?line=3'>4</a>\u001b[0m file_path \u001b[39m=\u001b[39m \u001b[39m\"\u001b[39m\u001b[39ma.pdf\u001b[39m\u001b[39m\"\u001b[39m\n\u001b[0;32m----> <a href='vscode-notebook-cell:/home/mjoudy/Documents/codes/psiori/pdf_parsing/test_with_titles.ipynb#X11sZmlsZQ%3D%3D?line=4'>5</a>\u001b[0m parsed_data \u001b[39m=\u001b[39m parse_pdf(file_path, title_extraction_method\u001b[39m=\u001b[39;49m\u001b[39m\"\u001b[39;49m\u001b[39mfont\u001b[39;49m\u001b[39m\"\u001b[39;49m)\n\u001b[1;32m      <a href='vscode-notebook-cell:/home/mjoudy/Documents/codes/psiori/pdf_parsing/test_with_titles.ipynb#X11sZmlsZQ%3D%3D?line=5'>6</a>\u001b[0m df \u001b[39m=\u001b[39m pd\u001b[39m.\u001b[39mDataFrame(parsed_data)\n\u001b[1;32m      <a href='vscode-notebook-cell:/home/mjoudy/Documents/codes/psiori/pdf_parsing/test_with_titles.ipynb#X11sZmlsZQ%3D%3D?line=6'>7</a>\u001b[0m \u001b[39mprint\u001b[39m(df)\n",
      "\u001b[1;32m/home/mjoudy/Documents/codes/psiori/pdf_parsing/test_with_titles.ipynb Cell 11\u001b[0m line \u001b[0;36m2\n\u001b[1;32m      <a href='vscode-notebook-cell:/home/mjoudy/Documents/codes/psiori/pdf_parsing/test_with_titles.ipynb#X11sZmlsZQ%3D%3D?line=0'>1</a>\u001b[0m \u001b[39mdef\u001b[39;00m \u001b[39mparse_pdf\u001b[39m(file_path, title_extraction_method\u001b[39m=\u001b[39m\u001b[39m\"\u001b[39m\u001b[39mfont\u001b[39m\u001b[39m\"\u001b[39m):\n\u001b[0;32m----> <a href='vscode-notebook-cell:/home/mjoudy/Documents/codes/psiori/pdf_parsing/test_with_titles.ipynb#X11sZmlsZQ%3D%3D?line=1'>2</a>\u001b[0m     doc \u001b[39m=\u001b[39m fitz\u001b[39m.\u001b[39mopen(file_path)\n\u001b[1;32m      <a href='vscode-notebook-cell:/home/mjoudy/Documents/codes/psiori/pdf_parsing/test_with_titles.ipynb#X11sZmlsZQ%3D%3D?line=2'>3</a>\u001b[0m     pages \u001b[39m=\u001b[39m \u001b[39mlen\u001b[39m(doc)\n\u001b[1;32m      <a href='vscode-notebook-cell:/home/mjoudy/Documents/codes/psiori/pdf_parsing/test_with_titles.ipynb#X11sZmlsZQ%3D%3D?line=4'>5</a>\u001b[0m     parsed_data \u001b[39m=\u001b[39m []\n",
      "\u001b[0;31mNameError\u001b[0m: name 'fitz' is not defined"
     ]
    }
   ],
   "source": [
    "# Rest of the code remains unchanged\n",
    "\n",
    "# Usage\n",
    "file_path = \"a.pdf\"\n",
    "parsed_data = parse_pdf(file_path, title_extraction_method=\"font\")\n",
    "df = pd.DataFrame(parsed_data)\n",
    "print(df)"
   ]
  },
  {
   "cell_type": "code",
   "execution_count": null,
   "metadata": {},
   "outputs": [],
   "source": []
  }
 ],
 "metadata": {
  "kernelspec": {
   "display_name": "pymupdf-venv",
   "language": "python",
   "name": "python3"
  },
  "language_info": {
   "codemirror_mode": {
    "name": "ipython",
    "version": 3
   },
   "file_extension": ".py",
   "mimetype": "text/x-python",
   "name": "python",
   "nbconvert_exporter": "python",
   "pygments_lexer": "ipython3",
   "version": "3.10.12"
  }
 },
 "nbformat": 4,
 "nbformat_minor": 2
}
